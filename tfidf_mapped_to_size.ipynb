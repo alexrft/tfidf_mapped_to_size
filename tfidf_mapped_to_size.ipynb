{
 "cells": [
  {
   "cell_type": "code",
   "execution_count": 1,
   "metadata": {},
   "outputs": [
    {
     "name": "stdout",
     "output_type": "stream",
     "text": [
      "Searching in directory:\n",
      "\ttexts-in-subdirs/\n",
      "Number of TXT files found:\n",
      "\t40\n"
     ]
    }
   ],
   "source": [
    "import os.path\n",
    "\n",
    "directory_with_texts = 'texts-in-subdirs/'\n",
    "\n",
    "paths_to_files = []\n",
    "\n",
    "for root, subdirs, files in os.walk(directory_with_texts):\n",
    "    for filename in files:\n",
    "        if filename.endswith('.txt'):\n",
    "            path = os.path.join(root, filename)\n",
    "            paths_to_files.append(path)\n",
    "\n",
    "print('Searching in directory:\\n\\t{}'.format(directory_with_texts))\n",
    "print('Number of TXT files found:\\n\\t{}'.format(len(paths_to_files)))"
   ]
  },
  {
   "cell_type": "code",
   "execution_count": 2,
   "metadata": {},
   "outputs": [
    {
     "name": "stdout",
     "output_type": "stream",
     "text": [
      "Number of documents going to corpus:\n",
      "\t40\n"
     ]
    }
   ],
   "source": [
    "corpus = []\n",
    "\n",
    "try:\n",
    "    for path in paths_to_files[:]: # easy to limit as [:5] for example\n",
    "        with open(file = path, mode = 'r', encoding = 'utf-8') as document:\n",
    "            document = document.read()\n",
    "            document = document.split(sep = None) # better use regexp ?\n",
    "            document = ' '.join(document)\n",
    "            if document != '':\n",
    "                corpus.append(document)\n",
    "            else:\n",
    "                print('Skipped since no text found within:\\n\\t{}'.format(path))\n",
    "                paths_to_files.remove(path)\n",
    "except UnicodeDecodeError:\n",
    "    print('ERROR! Make sure files are encoded in UTF-8 without BOM')\n",
    "\n",
    "if len(corpus) != 0:\n",
    "    print('Number of documents going to corpus:\\n\\t{}'.format(len(corpus)))\n",
    "else:\n",
    "    print('ERROR! No texts found in directory:\\n\\t{}'.format(directory_with_texts))"
   ]
  },
  {
   "cell_type": "code",
   "execution_count": 3,
   "metadata": {},
   "outputs": [
    {
     "name": "stderr",
     "output_type": "stream",
     "text": [
      "Tokenization with mosestokenizer: 100%|██████████| 40/40 [00:03<00:00, 14.22it/s]\n"
     ]
    }
   ],
   "source": [
    "from tqdm import tqdm\n",
    "\n",
    "from mosestokenizer import MosesPunctuationNormalizer, MosesTokenizer\n",
    "\n",
    "corpus_tokenized = []\n",
    "\n",
    "for document in tqdm(corpus, desc='Tokenization with mosestokenizer', leave=True):\n",
    "    with MosesPunctuationNormalizer('ru') as normalize, MosesTokenizer('ru') as tokenize:\n",
    "        document_normalized = normalize(document)\n",
    "        document_tokenized = tokenize(document_normalized)\n",
    "        corpus_tokenized.append(document_tokenized)"
   ]
  },
  {
   "cell_type": "code",
   "execution_count": 4,
   "metadata": {
    "collapsed": true
   },
   "outputs": [],
   "source": [
    "# fixing dashed tokens like 'кое-где' and 'ку-ка-ре-ку'\n",
    "for document_tokenized in corpus_tokenized:\n",
    "    while '@-@' in document_tokenized:\n",
    "        for index, token in enumerate(document_tokenized):\n",
    "            if token == '@-@':\n",
    "                document_tokenized[index] = document_tokenized[index - 1] + '-' + document_tokenized[index + 1]\n",
    "                document_tokenized.remove(document_tokenized[index + 1]) # order matters\n",
    "                document_tokenized.remove(document_tokenized[index - 1]) # order matters"
   ]
  },
  {
   "cell_type": "code",
   "execution_count": 5,
   "metadata": {},
   "outputs": [
    {
     "name": "stderr",
     "output_type": "stream",
     "text": [
      "Lemmatization by pymorphy: 100%|██████████| 40/40 [00:17<00:00,  1.36it/s]\n"
     ]
    }
   ],
   "source": [
    "import pymorphy2\n",
    "pymorphy = pymorphy2.MorphAnalyzer()\n",
    "\n",
    "corpus_lemma = []\n",
    "\n",
    "for document_tokenized in tqdm(corpus_tokenized, desc='Lemmatization by pymorphy', leave=True):\n",
    "    one_doc_lemmas = []\n",
    "    for token in document_tokenized:        \n",
    "        lemm = pymorphy.parse(token)[0].normal_form\n",
    "        one_doc_lemmas.append(lemm)\n",
    "    corpus_lemma.append(one_doc_lemmas)"
   ]
  },
  {
   "cell_type": "code",
   "execution_count": 6,
   "metadata": {
    "collapsed": true
   },
   "outputs": [],
   "source": [
    "# use ord('symbol') for get more ascii\n",
    "punctuation_soup = [['&apos;', '&quot;'], # from mosestokenizer's normalization\n",
    "                    ['..', '...', '....'], # several symbols\n",
    "                    [chr(i) for i in range(33, 47 + 1)],\n",
    "                    [chr(i) for i in range(58, 64 + 1)],\n",
    "                    [chr(i) for i in range(91, 96 + 1)],\n",
    "                    [chr(i) for i in range(123, 192 + 1)],\n",
    "                    [chr(i) for i in range(215, 216 + 1)],\n",
    "                    [chr(i) for i in range(690, 879 + 1) ],\n",
    "                    [chr(i) for i in range(8190, 8471 + 1)]]\n",
    "\n",
    "punctuation_soup = sum(punctuation_soup, [])"
   ]
  },
  {
   "cell_type": "code",
   "execution_count": 7,
   "metadata": {},
   "outputs": [
    {
     "name": "stdout",
     "output_type": "stream",
     "text": [
      "Number of stop words predefined in file \"stop_words.txt\":\n",
      "\t193\n"
     ]
    }
   ],
   "source": [
    "file_with_stop_words = 'stop_words.txt'\n",
    "\n",
    "stop_words = []\n",
    "\n",
    "try:\n",
    "    with open(file = file_with_stop_words, mode = 'r', encoding = 'utf-8') as words:\n",
    "        words = words.readlines()\n",
    "        for word in words:\n",
    "            word = word.split(sep = None) # any whitespace characters\n",
    "            word = ' '.join(word)\n",
    "            word = pymorphy.parse(word)[0].normal_form\n",
    "            if word != '':\n",
    "                stop_words.append(word)\n",
    "except FileNotFoundError:\n",
    "    print('Note! File \"{}\" not found.'.format(file_with_stop_words))\n",
    "except UnicodeDecodeError:\n",
    "    print('ERROR! Make sure file \"{}\" is encoded in UTF-8 without BOM'.format(file_with_stop_words))\n",
    "\n",
    "stop_words = list(set(stop_words))\n",
    "stop_words = sorted(stop_words)\n",
    "print('Number of stop words predefined in file \"{}\":\\n\\t{}'.format(file_with_stop_words, len(stop_words)))"
   ]
  },
  {
   "cell_type": "code",
   "execution_count": 8,
   "metadata": {
    "collapsed": true
   },
   "outputs": [],
   "source": [
    "from sklearn.feature_extraction.text import TfidfVectorizer\n",
    "\n",
    "tfidf = TfidfVectorizer(preprocessor = lambda x: x, # done before for better control\n",
    "                        tokenizer = lambda x: x, # done before for better control\n",
    "                        token_pattern = None, # for sure\n",
    "                        lowercase = False, # for sure\n",
    "                        min_df = 1, # no cut-off\n",
    "                        #strip_accents = 'unicode', # maybe not needed\n",
    "                        stop_words = stop_words + punctuation_soup,\n",
    "                        norm = 'l2') # 'l2' in future"
   ]
  },
  {
   "cell_type": "code",
   "execution_count": 9,
   "metadata": {},
   "outputs": [
    {
     "name": "stdout",
     "output_type": "stream",
     "text": [
      "Some of TFIDF parameters:\n",
      "\t max_df:\t1.0\n",
      "\t min_df:\t1\n",
      "\t norm:\t\tl2\n",
      "\t smooth_idf:\tTrue\n",
      "\t sublinear_tf:\tFalse\n"
     ]
    }
   ],
   "source": [
    "print('Some of TFIDF parameters:')\n",
    "print('\\t max_df:\\t{}'.format(tfidf.get_params().get('max_df')))\n",
    "print('\\t min_df:\\t{}'.format(tfidf.get_params().get('min_df')))\n",
    "print('\\t norm:\\t\\t{}'.format(tfidf.get_params().get('norm')))\n",
    "print('\\t smooth_idf:\\t{}'.format(tfidf.get_params().get('smooth_idf')))\n",
    "print('\\t sublinear_tf:\\t{}'.format(tfidf.get_params().get('sublinear_tf')))"
   ]
  },
  {
   "cell_type": "code",
   "execution_count": 10,
   "metadata": {
    "collapsed": true
   },
   "outputs": [],
   "source": [
    "tfidf_matrix = tfidf.fit_transform(corpus_lemma)\n",
    "\n",
    "max_tfidf = tfidf_matrix.max()\n",
    "\n",
    "terms = tfidf.get_feature_names()\n",
    "\n",
    "tfidf_lists = tfidf_matrix.toarray().tolist()"
   ]
  },
  {
   "cell_type": "code",
   "execution_count": 11,
   "metadata": {},
   "outputs": [
    {
     "name": "stderr",
     "output_type": "stream",
     "text": [
      "Bag of words and TFIDF: 100%|██████████| 40/40 [00:00<00:00, 330.59it/s]\n"
     ]
    }
   ],
   "source": [
    "# let's create list of dictionaries where keys are words, and values are TFIDF\n",
    "from tqdm import trange\n",
    "\n",
    "tfidf_dicts = []\n",
    "for each_row in trange(len(tfidf_lists), desc='Bag of words and TFIDF', leave=True):\n",
    "    zipper = list(zip(terms, tfidf_lists[each_row]))\n",
    "    tfidf_dicts.append(dict(zipper))"
   ]
  },
  {
   "cell_type": "code",
   "execution_count": 12,
   "metadata": {
    "collapsed": true
   },
   "outputs": [],
   "source": [
    "# let's create dictionary where keys are words, and values are IDF\n",
    "zipper = zip(terms, tfidf.idf_)\n",
    "idf_dict = dict(zipper)"
   ]
  },
  {
   "cell_type": "code",
   "execution_count": 13,
   "metadata": {
    "collapsed": true
   },
   "outputs": [],
   "source": [
    "tf = TfidfVectorizer(preprocessor = lambda x: x, # done before for better control\n",
    "                     tokenizer = lambda x: x, # done before for better control\n",
    "                     token_pattern = None, # for sure\n",
    "                     lowercase = False, # for sure\n",
    "                     min_df = 1, # no cut-off\n",
    "                     #strip_accents = 'unicode', # maybe not needed\n",
    "                     stop_words = stop_words + punctuation_soup,\n",
    "                     use_idf = False,\n",
    "                     norm = 'l2') # 'l2' in future"
   ]
  },
  {
   "cell_type": "code",
   "execution_count": 14,
   "metadata": {
    "collapsed": true
   },
   "outputs": [],
   "source": [
    "tf_matrix = tf.fit_transform(corpus_lemma)\n",
    "\n",
    "tf_lists = tf_matrix.toarray().tolist()"
   ]
  },
  {
   "cell_type": "code",
   "execution_count": 15,
   "metadata": {
    "collapsed": true
   },
   "outputs": [],
   "source": [
    "# let's create list of dictionaries where keys are words, and values are TF\n",
    "tf_dicts = []\n",
    "for each_row in range(len(tf_lists)):\n",
    "    zipper = list(zip(terms, tf_lists[each_row]))\n",
    "    tf_dicts.append(dict(zipper))"
   ]
  },
  {
   "cell_type": "code",
   "execution_count": 16,
   "metadata": {
    "collapsed": true
   },
   "outputs": [],
   "source": [
    "# let's create dictionary where keys are words, and values are TF\n",
    "\n",
    "terms_counts = []\n",
    "\n",
    "for each_lemm in tf_dicts[0]: # doesn't matter\n",
    "    doc_term_count =[]\n",
    "    for index, each_row in enumerate(tf_dicts):\n",
    "        doc_term_count.append(tf_dicts[index].get(each_lemm))\n",
    "    terms_counts.append(sum(doc_term_count))\n",
    "\n",
    "zipper = zip(tf_dicts[0], terms_counts) # doesn't matter\n",
    "term_global_freq = dict(zipper)"
   ]
  },
  {
   "cell_type": "code",
   "execution_count": 17,
   "metadata": {
    "collapsed": true
   },
   "outputs": [],
   "source": [
    "# let's create dictionary where keys are words, and values are\n",
    "# number of different docs with such a word\n",
    "\n",
    "docs_counts = []\n",
    "\n",
    "for each_lemm in tf_dicts[0]: # все равно из какого брать все слова\n",
    "    count = 0\n",
    "    for ind, e in enumerate(tf_dicts):    \n",
    "        if tf_dicts[ind].get(each_lemm) != 0:\n",
    "            count += 1\n",
    "    docs_counts.append(count)\n",
    "\n",
    "zipper = zip(tf_dicts[0], docs_counts)\n",
    "diff_docs = dict(zipper)"
   ]
  },
  {
   "cell_type": "code",
   "execution_count": 18,
   "metadata": {},
   "outputs": [
    {
     "name": "stderr",
     "output_type": "stream",
     "text": [
      "Corpus HTML tagging: 100%|██████████| 40/40 [00:18<00:00,  1.30it/s]\n"
     ]
    }
   ],
   "source": [
    "corpus_tagged = []\n",
    "\n",
    "number_of_docs = len(corpus) \n",
    "\n",
    "for index, document_tokenized in enumerate(tqdm(corpus_tokenized, desc='Corpus HTML tagging', leave=True)):\n",
    "    document_tagged = []\n",
    "\n",
    "    for token in document_tokenized:\n",
    "        lemma = pymorphy.parse(token)[0].normal_form\n",
    "        if token in punctuation_soup:\n",
    "            document_tagged.append(token)\n",
    "        elif lemma in stop_words:\n",
    "            document_tagged.append('<stopword>'+ token + '</stopword>')\n",
    "        else:\n",
    "            try:\n",
    "                tfidf_value = tfidf_dicts[index].get(lemma)\n",
    "                tf_value = tf_dicts[index].get(lemma)\n",
    "                idf_value = idf_dict.get(lemma)\n",
    "                global_freq_value = term_global_freq.get(lemma)\n",
    "                diff_value = diff_docs.get(lemma)\n",
    "                word_size = str('%.2f' % (100 + tfidf_value*200/max_tfidf))\n",
    "                info_soup = ('word {tab} {tab} {tab} {tab} {token} {carriage}'\n",
    "                             'calculations for lemma {tab} {lemma} {carriage}'\n",
    "                             'tfidf {tab} {tab} {tab} {tab} {tab} {tfidf_value} {carriage}'                             \n",
    "                             'idf {tab} {tab} {tab} {tab} {tab} {idf_value} {carriage}'\n",
    "                             #'# in this doc (tf) {tab} {tab} {tf_value} {carriage}'\n",
    "                             #'# in whole corpus {tab} {tab} {global_freq_value} {carriage}'\n",
    "                             '# in different docs {tab} {tab} {diff_value} {carriage}'\n",
    "                             '# docs in corpus {tab} {tab} {number_of_docs}')\n",
    "                info_soup = info_soup.format(tab = '&#009;',\n",
    "                                             carriage = '&#013;',\n",
    "                                             token = token,\n",
    "                                             lemma = lemma,\n",
    "                                             tfidf_value = '%.2f' % tfidf_value,\n",
    "                                             tf_value = int(tf_value),\n",
    "                                             idf_value = '%.2f' % idf_value,\n",
    "                                             global_freq_value = int(global_freq_value),\n",
    "                                             diff_value = diff_value,\n",
    "                                             number_of_docs = number_of_docs)\n",
    "                document_tagged.append('<span style = \"font-size: ' + word_size + '%\"; title = \"' + info_soup + '\">' + token + '</span>')\n",
    "            except TypeError:\n",
    "                print(\"Probably some punctuation problem with rare symbol.\")\n",
    "\n",
    "    corpus_tagged.append(document_tagged)"
   ]
  },
  {
   "cell_type": "code",
   "execution_count": 19,
   "metadata": {},
   "outputs": [
    {
     "name": "stderr",
     "output_type": "stream",
     "text": [
      "Detekonizing with mosestokeniser: 100%|██████████| 40/40 [00:51<00:00,  2.00s/it]\n"
     ]
    }
   ],
   "source": [
    "from mosestokenizer import MosesDetokenizer\n",
    "\n",
    "corpus_tagged_detoken = []\n",
    "\n",
    "with MosesDetokenizer('ru') as detokenize:\n",
    "    for document_tokenized_tagged in tqdm(corpus_tagged, desc='Detekonizing with mosestokeniser', leave=True):\n",
    "        corpus_tagged_detoken.append(detokenize(document_tokenized_tagged))"
   ]
  },
  {
   "cell_type": "code",
   "execution_count": 20,
   "metadata": {
    "collapsed": true
   },
   "outputs": [],
   "source": [
    "template_for_html = '''\n",
    "<!doctype html>\n",
    "<html lang = 'ru'>\n",
    "\n",
    "  <head>\n",
    "    <meta charset = 'utf-8'>\n",
    "      <title>tfidf mapped to size</title>\n",
    "    <style>\n",
    "      stopword {{color: rgb(128, 128, 128)}}\n",
    "      hr {{border-top: 2px solid black}}\n",
    "      filename {{text-align: center; display: block}}\n",
    "    </style>\n",
    "  </head>\n",
    "\n",
    "  <body>\n",
    "    <p>{}</p>\n",
    "  </body>\n",
    "\n",
    "</html>\n",
    "'''\n",
    "\n",
    "#p {{line-height: 50px}}"
   ]
  },
  {
   "cell_type": "code",
   "execution_count": 21,
   "metadata": {
    "collapsed": true
   },
   "outputs": [],
   "source": [
    "# adding file's name as title\n",
    "corpus_tagged_titled = []\n",
    "\n",
    "for index, tale in enumerate(corpus_tagged_detoken):\n",
    "    title = '<filename>' + paths_to_files[index] + '</filename>'\n",
    "    delimeter = '<hr>'\n",
    "    corpus_tagged_titled.append(\"\".join([title, tale, delimeter]))"
   ]
  },
  {
   "cell_type": "code",
   "execution_count": 22,
   "metadata": {
    "collapsed": true
   },
   "outputs": [],
   "source": [
    "html_output = template_for_html.format('</p><p>'.join(corpus_tagged_titled[:]))"
   ]
  },
  {
   "cell_type": "code",
   "execution_count": 23,
   "metadata": {
    "collapsed": true
   },
   "outputs": [],
   "source": [
    "dir_for_output = 'output'\n",
    "filename = 'tfidf_mapped_to_size.html'\n",
    "\n",
    "os.makedirs(os.path.dirname(os.path.join(dir_for_output, filename)), exist_ok=True)\n",
    "\n",
    "with open(file = os.path.join(dir_for_output, filename), mode = 'w', encoding = 'utf-8') as f:\n",
    "    f.write(html_output)"
   ]
  },
  {
   "cell_type": "code",
   "execution_count": 24,
   "metadata": {},
   "outputs": [
    {
     "data": {
      "text/plain": [
       "True"
      ]
     },
     "execution_count": 24,
     "metadata": {},
     "output_type": "execute_result"
    }
   ],
   "source": [
    "import webbrowser\n",
    "\n",
    "webbrowser.open_new_tab(os.path.join(dir_for_output, filename))"
   ]
  }
 ],
 "metadata": {
  "anaconda-cloud": {},
  "kernelspec": {
   "display_name": "Python 3",
   "language": "python",
   "name": "python3"
  },
  "language_info": {
   "codemirror_mode": {
    "name": "ipython",
    "version": 3
   },
   "file_extension": ".py",
   "mimetype": "text/x-python",
   "name": "python",
   "nbconvert_exporter": "python",
   "pygments_lexer": "ipython3",
   "version": "3.5.3+"
  }
 },
 "nbformat": 4,
 "nbformat_minor": 2
}
